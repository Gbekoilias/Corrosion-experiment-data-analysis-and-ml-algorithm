{
 "cells": [
  {
   "cell_type": "markdown",
   "id": "77aea165-9c30-4cc9-8370-52b6b344520b",
   "metadata": {},
   "source": [
    "## Corrosivity index and streamflow  to evaluate trends in potentially corrosive source waters in the Nation's streams and rivers (input)(1964-2016)"
   ]
  },
  {
   "cell_type": "markdown",
   "id": "a64e6bbe-5bf1-47be-9a24-67c14eef6307",
   "metadata": {},
   "source": [
    "#### Files containing CSMR and LR data input into WRTDS for all sites"
   ]
  },
  {
   "cell_type": "markdown",
   "id": "f5c5a75c-9c69-4c43-ad28-7632bccd82e0",
   "metadata": {},
   "source": [
    "#### Changes in water corrosivity from 84 river sites were investigated using long-term (1962 – 2016) data sets. Corrosive waters, often having elevated chloride (Cl) concentrations, can lead to metal leaching and promote corrosion in water distribution systems. Two different indices, the Chloride-Sulfate Mass Ratio (CSMR) and the Larson Ratio (LR), are commonly used to indicate the potential to promote corrosion in water distribution systems, with high values indicating an increase in the potential to promote corrosion. Though changes in treatment approaches at drinking water facilities are known to affect the corrosion indices, there is little information regarding how changes in the ionic composition of source waters may affect the corrosion indices. As part of the National Water-Quality Assessment (NAWQA) project of the National Water-Quality Program, long-term water-quality data from multiple sites across the Conterminous United States have been used to analyze seasonal- and flow-related variability and trends in the CSMR and LR indices.\n",
    "#### These input datasets contain corrosion index values and streamflow data to run WRTDS trend models to determine riverine trends for the CSMR and LR indices. CSMR was calculated as, CSMR = (Cl-) / (SO42-), where (Cl-) is the chloride concentration, expressed as mg Cl L-1 and (SO42-) is sulfate concentration expressed as mg SO42- L-1. LR was calculated as, LR = ((Cl- / 35.5) + (2 x (SO42- / 96.06))) / (2 x Alk / 100.8) where [Cl-], [SO42-], and [Alk] are the concentrations of chloride, sulfate, and alkalinity, respectively, expressed as mg Cl- L-1, mg SO42- L-1, and mg CaCO3 L-1, respectively. The data was used to output trend results from 1992 to 2012"
   ]
  },
  {
   "cell_type": "markdown",
   "id": "d1586eab-afe0-4955-a942-f6f90ba2b9f6",
   "metadata": {},
   "source": [
    "## Table of contents"
   ]
  },
  {
   "cell_type": "markdown",
   "id": "6050514b-73e2-4b82-b374-d7dc24e54c47",
   "metadata": {},
   "source": [
    "#### 1.Importing Libraries"
   ]
  },
  {
   "cell_type": "markdown",
   "id": "a0fdc1a5-de82-43b5-b450-06df78fc7c8d",
   "metadata": {},
   "source": [
    "#### 2.Loading data"
   ]
  },
  {
   "cell_type": "markdown",
   "id": "84535053-496b-4c0c-bd8d-93593b9569f9",
   "metadata": {},
   "source": [
    "#### 3.Statistical Summaries"
   ]
  },
  {
   "cell_type": "markdown",
   "id": "be40dc5e-e4e7-4f92-932d-db03424988af",
   "metadata": {},
   "source": [
    "#### 4.Missing values and duplicates"
   ]
  },
  {
   "cell_type": "markdown",
   "id": "2a803f5d-6387-41d4-8e01-b5c30b8dce5a",
   "metadata": {},
   "source": [
    "#### 5.Outliers"
   ]
  },
  {
   "cell_type": "markdown",
   "id": "a8b959fd-c7ed-45d6-8e56-9c92b4f77e08",
   "metadata": {},
   "source": [
    "#### 6.Feature Engineering"
   ]
  },
  {
   "cell_type": "markdown",
   "id": "d4734640-173d-44df-871e-9b50688db329",
   "metadata": {},
   "source": [
    "#### 7.Date Features EDA"
   ]
  },
  {
   "cell_type": "markdown",
   "id": "98317f0b-4aa5-49e5-877a-058f41dc06db",
   "metadata": {},
   "source": [
    "#### 8.Splitting of datasets"
   ]
  },
  {
   "cell_type": "markdown",
   "id": "785decf9-9997-40b4-85d5-662bf00f0dda",
   "metadata": {},
   "source": [
    "#### 9.Machine Learning Pipeline"
   ]
  },
  {
   "cell_type": "markdown",
   "id": "8d6e1c49-6f17-4423-86f0-be0c53f3d14f",
   "metadata": {},
   "source": [
    "#### 10.Evaluation metrics"
   ]
  },
  {
   "cell_type": "markdown",
   "id": "7f0e1849-81bb-4459-8f9c-c2d54491a72a",
   "metadata": {},
   "source": [
    "## 1.Importing Libraries"
   ]
  },
  {
   "cell_type": "code",
   "execution_count": 155,
   "id": "eeb948ae-ef91-4edd-90f5-c72c1b350a13",
   "metadata": {},
   "outputs": [],
   "source": [
    "# import the relevant libraries,packages and modules\n",
    "import pandas as pd\n",
    "import numpy as np\n",
    "import matplotlib.pylab as plb\n",
    "import matplotlib.pyplot as plt\n",
    "import seaborn as sns\n",
    "import warnings\n",
    "import json\n",
    "import statsmodels.api as sm\n",
    "import joblib\n",
    "\n",
    "%matplotlib inline\n",
    "sns.set()\n",
    "warnings.filterwarnings('ignore')"
   ]
  },
  {
   "cell_type": "markdown",
   "id": "2778fd49-7188-4cd2-b277-58fa604a4cfa",
   "metadata": {},
   "source": [
    "## 2.Loading data"
   ]
  },
  {
   "cell_type": "code",
   "execution_count": 104,
   "id": "46a3ee9c-2673-4127-a4b0-118f149a8593",
   "metadata": {},
   "outputs": [],
   "source": [
    "# Only a file is available which contain the corossion features and parameters dated\n",
    "data = pd.read_csv('inputData.csv',parse_dates = ['date'])"
   ]
  },
  {
   "cell_type": "code",
   "execution_count": 105,
   "id": "977079a9-d03b-475e-af35-e84635e154e9",
   "metadata": {},
   "outputs": [
    {
     "data": {
      "text/html": [
       "<div>\n",
       "<style scoped>\n",
       "    .dataframe tbody tr th:only-of-type {\n",
       "        vertical-align: middle;\n",
       "    }\n",
       "\n",
       "    .dataframe tbody tr th {\n",
       "        vertical-align: top;\n",
       "    }\n",
       "\n",
       "    .dataframe thead th {\n",
       "        text-align: right;\n",
       "    }\n",
       "</style>\n",
       "<table border=\"1\" class=\"dataframe\">\n",
       "  <thead>\n",
       "    <tr style=\"text-align: right;\">\n",
       "      <th></th>\n",
       "      <th>Site_no</th>\n",
       "      <th>date</th>\n",
       "      <th>ParamLow</th>\n",
       "      <th>ParamHigh</th>\n",
       "      <th>Parameter</th>\n",
       "      <th>Uncen</th>\n",
       "    </tr>\n",
       "  </thead>\n",
       "  <tbody>\n",
       "    <tr>\n",
       "      <th>0</th>\n",
       "      <td>01122610</td>\n",
       "      <td>1974-07-08</td>\n",
       "      <td>1.53540</td>\n",
       "      <td>1.53540</td>\n",
       "      <td>Larson</td>\n",
       "      <td>1</td>\n",
       "    </tr>\n",
       "    <tr>\n",
       "      <th>1</th>\n",
       "      <td>01122610</td>\n",
       "      <td>1974-07-08</td>\n",
       "      <td>0.80103</td>\n",
       "      <td>0.80103</td>\n",
       "      <td>CSMR</td>\n",
       "      <td>1</td>\n",
       "    </tr>\n",
       "    <tr>\n",
       "      <th>2</th>\n",
       "      <td>01122610</td>\n",
       "      <td>1974-08-05</td>\n",
       "      <td>2.02023</td>\n",
       "      <td>2.02023</td>\n",
       "      <td>Larson</td>\n",
       "      <td>1</td>\n",
       "    </tr>\n",
       "    <tr>\n",
       "      <th>3</th>\n",
       "      <td>01122610</td>\n",
       "      <td>1974-08-05</td>\n",
       "      <td>1.16817</td>\n",
       "      <td>1.16817</td>\n",
       "      <td>CSMR</td>\n",
       "      <td>1</td>\n",
       "    </tr>\n",
       "    <tr>\n",
       "      <th>4</th>\n",
       "      <td>01122610</td>\n",
       "      <td>1974-09-16</td>\n",
       "      <td>2.27004</td>\n",
       "      <td>2.27004</td>\n",
       "      <td>Larson</td>\n",
       "      <td>1</td>\n",
       "    </tr>\n",
       "  </tbody>\n",
       "</table>\n",
       "</div>"
      ],
      "text/plain": [
       "    Site_no       date  ParamLow  ParamHigh Parameter  Uncen\n",
       "0  01122610 1974-07-08   1.53540    1.53540    Larson      1\n",
       "1  01122610 1974-07-08   0.80103    0.80103      CSMR      1\n",
       "2  01122610 1974-08-05   2.02023    2.02023    Larson      1\n",
       "3  01122610 1974-08-05   1.16817    1.16817      CSMR      1\n",
       "4  01122610 1974-09-16   2.27004    2.27004    Larson      1"
      ]
     },
     "execution_count": 105,
     "metadata": {},
     "output_type": "execute_result"
    }
   ],
   "source": [
    "data.head()"
   ]
  },
  {
   "cell_type": "code",
   "execution_count": 106,
   "id": "efb959fc-c59d-4e4f-a082-52f173a59ad3",
   "metadata": {},
   "outputs": [
    {
     "data": {
      "text/plain": [
       "Index(['Site_no', 'date', 'ParamLow', 'ParamHigh', 'Parameter', 'Uncen'], dtype='object')"
      ]
     },
     "execution_count": 106,
     "metadata": {},
     "output_type": "execute_result"
    }
   ],
   "source": [
    "data.columns"
   ]
  },
  {
   "cell_type": "markdown",
   "id": "a926d5ee-3f84-47d7-a233-20471264f67b",
   "metadata": {},
   "source": [
    "###### The datasets contain the following the following                features\n",
    "###### Site_no:- trend site number\n",
    "###### date:- Day (YYYY-MM-DD)\n",
    "###### ParamLow:- Lower limit of the CSMR or LR\n",
    "###### ParamHigh:- Upper limit of the CSMR or LR\n",
    "###### Parameter:- Describes the corrosion index parameter being analyzed\n",
    "###### Uncern:- Uncensored data (1=true, 0=false)\n",
    "\n",
    "###### CSMR:-Chloride-Sulfate Mass Ratio\n",
    "###### Larson:-Larson Ratio "
   ]
  },
  {
   "cell_type": "code",
   "execution_count": null,
   "id": "9edd8873-4a56-4ba0-9635-3be0ba0fbb08",
   "metadata": {},
   "outputs": [],
   "source": [
    "data.shape"
   ]
  },
  {
   "cell_type": "markdown",
   "id": "7bafed26-142f-48ea-9dd7-b64103edacab",
   "metadata": {},
   "source": [
    "## Statistical Summarries"
   ]
  },
  {
   "cell_type": "code",
   "execution_count": 108,
   "id": "4aaa8554-5bc0-4681-b6eb-fcc35a65544b",
   "metadata": {},
   "outputs": [
    {
     "data": {
      "text/html": [
       "<div>\n",
       "<style scoped>\n",
       "    .dataframe tbody tr th:only-of-type {\n",
       "        vertical-align: middle;\n",
       "    }\n",
       "\n",
       "    .dataframe tbody tr th {\n",
       "        vertical-align: top;\n",
       "    }\n",
       "\n",
       "    .dataframe thead th {\n",
       "        text-align: right;\n",
       "    }\n",
       "</style>\n",
       "<table border=\"1\" class=\"dataframe\">\n",
       "  <thead>\n",
       "    <tr style=\"text-align: right;\">\n",
       "      <th></th>\n",
       "      <th>Site_no</th>\n",
       "      <th>date</th>\n",
       "      <th>ParamLow</th>\n",
       "      <th>ParamHigh</th>\n",
       "      <th>Parameter</th>\n",
       "      <th>Uncen</th>\n",
       "    </tr>\n",
       "  </thead>\n",
       "  <tbody>\n",
       "    <tr>\n",
       "      <th>count</th>\n",
       "      <td>60274</td>\n",
       "      <td>60274</td>\n",
       "      <td>60274.00000</td>\n",
       "      <td>60274.00000</td>\n",
       "      <td>60274</td>\n",
       "      <td>60274.00000</td>\n",
       "    </tr>\n",
       "    <tr>\n",
       "      <th>unique</th>\n",
       "      <td>92</td>\n",
       "      <td>10665</td>\n",
       "      <td>NaN</td>\n",
       "      <td>NaN</td>\n",
       "      <td>2</td>\n",
       "      <td>NaN</td>\n",
       "    </tr>\n",
       "    <tr>\n",
       "      <th>top</th>\n",
       "      <td>09522000</td>\n",
       "      <td>2000-06-07 00:00:00</td>\n",
       "      <td>NaN</td>\n",
       "      <td>NaN</td>\n",
       "      <td>CSMR</td>\n",
       "      <td>NaN</td>\n",
       "    </tr>\n",
       "    <tr>\n",
       "      <th>freq</th>\n",
       "      <td>2418</td>\n",
       "      <td>30</td>\n",
       "      <td>NaN</td>\n",
       "      <td>NaN</td>\n",
       "      <td>31809</td>\n",
       "      <td>NaN</td>\n",
       "    </tr>\n",
       "    <tr>\n",
       "      <th>first</th>\n",
       "      <td>NaN</td>\n",
       "      <td>1964-10-02 00:00:00</td>\n",
       "      <td>NaN</td>\n",
       "      <td>NaN</td>\n",
       "      <td>NaN</td>\n",
       "      <td>NaN</td>\n",
       "    </tr>\n",
       "    <tr>\n",
       "      <th>last</th>\n",
       "      <td>NaN</td>\n",
       "      <td>2014-08-13 00:00:00</td>\n",
       "      <td>NaN</td>\n",
       "      <td>NaN</td>\n",
       "      <td>NaN</td>\n",
       "      <td>NaN</td>\n",
       "    </tr>\n",
       "    <tr>\n",
       "      <th>mean</th>\n",
       "      <td>NaN</td>\n",
       "      <td>NaN</td>\n",
       "      <td>1.84179</td>\n",
       "      <td>inf</td>\n",
       "      <td>NaN</td>\n",
       "      <td>0.99902</td>\n",
       "    </tr>\n",
       "    <tr>\n",
       "      <th>std</th>\n",
       "      <td>NaN</td>\n",
       "      <td>NaN</td>\n",
       "      <td>9.87509</td>\n",
       "      <td>NaN</td>\n",
       "      <td>NaN</td>\n",
       "      <td>0.03127</td>\n",
       "    </tr>\n",
       "    <tr>\n",
       "      <th>min</th>\n",
       "      <td>NaN</td>\n",
       "      <td>NaN</td>\n",
       "      <td>0.00000</td>\n",
       "      <td>0.00021</td>\n",
       "      <td>NaN</td>\n",
       "      <td>0.00000</td>\n",
       "    </tr>\n",
       "    <tr>\n",
       "      <th>25%</th>\n",
       "      <td>NaN</td>\n",
       "      <td>NaN</td>\n",
       "      <td>0.39757</td>\n",
       "      <td>0.39817</td>\n",
       "      <td>NaN</td>\n",
       "      <td>1.00000</td>\n",
       "    </tr>\n",
       "    <tr>\n",
       "      <th>50%</th>\n",
       "      <td>NaN</td>\n",
       "      <td>NaN</td>\n",
       "      <td>0.78564</td>\n",
       "      <td>0.78673</td>\n",
       "      <td>NaN</td>\n",
       "      <td>1.00000</td>\n",
       "    </tr>\n",
       "    <tr>\n",
       "      <th>75%</th>\n",
       "      <td>NaN</td>\n",
       "      <td>NaN</td>\n",
       "      <td>1.46937</td>\n",
       "      <td>1.47208</td>\n",
       "      <td>NaN</td>\n",
       "      <td>1.00000</td>\n",
       "    </tr>\n",
       "    <tr>\n",
       "      <th>max</th>\n",
       "      <td>NaN</td>\n",
       "      <td>NaN</td>\n",
       "      <td>426.77885</td>\n",
       "      <td>inf</td>\n",
       "      <td>NaN</td>\n",
       "      <td>1.00000</td>\n",
       "    </tr>\n",
       "  </tbody>\n",
       "</table>\n",
       "</div>"
      ],
      "text/plain": [
       "         Site_no                 date    ParamLow   ParamHigh Parameter  \\\n",
       "count      60274                60274 60274.00000 60274.00000     60274   \n",
       "unique        92                10665         NaN         NaN         2   \n",
       "top     09522000  2000-06-07 00:00:00         NaN         NaN      CSMR   \n",
       "freq        2418                   30         NaN         NaN     31809   \n",
       "first        NaN  1964-10-02 00:00:00         NaN         NaN       NaN   \n",
       "last         NaN  2014-08-13 00:00:00         NaN         NaN       NaN   \n",
       "mean         NaN                  NaN     1.84179         inf       NaN   \n",
       "std          NaN                  NaN     9.87509         NaN       NaN   \n",
       "min          NaN                  NaN     0.00000     0.00021       NaN   \n",
       "25%          NaN                  NaN     0.39757     0.39817       NaN   \n",
       "50%          NaN                  NaN     0.78564     0.78673       NaN   \n",
       "75%          NaN                  NaN     1.46937     1.47208       NaN   \n",
       "max          NaN                  NaN   426.77885         inf       NaN   \n",
       "\n",
       "             Uncen  \n",
       "count  60274.00000  \n",
       "unique         NaN  \n",
       "top            NaN  \n",
       "freq           NaN  \n",
       "first          NaN  \n",
       "last           NaN  \n",
       "mean       0.99902  \n",
       "std        0.03127  \n",
       "min        0.00000  \n",
       "25%        1.00000  \n",
       "50%        1.00000  \n",
       "75%        1.00000  \n",
       "max        1.00000  "
      ]
     },
     "execution_count": 108,
     "metadata": {},
     "output_type": "execute_result"
    }
   ],
   "source": [
    "data.describe(include = 'all')"
   ]
  },
  {
   "cell_type": "markdown",
   "id": "3facfad6-1345-4100-a306-d8c5377baff1",
   "metadata": {},
   "source": [
    "###### From the above statistical summary, we can deduce some of the following insights:"
   ]
  },
  {
   "cell_type": "markdown",
   "id": "6d5b881a-588f-4f93-ad31-a56ceeb31f54",
   "metadata": {},
   "source": [
    "###### The data recovered provided ranges from \t1964-10-02 00:00:00\tto 2014-08-13 00:00:00"
   ]
  },
  {
   "cell_type": "markdown",
   "id": "5a5bd3b5-cef3-45e3-9dd5-cdf157d00411",
   "metadata": {},
   "source": [
    "###### There is a big difference between the ParamLow and ParamHigh, the values recorded for each features are scaled and graded differently Hence, a standardization might be needed in the future"
   ]
  },
  {
   "cell_type": "code",
   "execution_count": 109,
   "id": "ab6a3ee5-a6a0-4e0d-8362-d970d731a857",
   "metadata": {},
   "outputs": [
    {
     "data": {
      "image/png": "[encoded data removed]",
      "text/plain": [
       "<Figure size 576x360 with 1 Axes>"
      ]
     },
     "metadata": {},
     "output_type": "display_data"
    }
   ],
   "source": [
    "# labelled data distribution\n",
    "sns.set_style('darkgrid')\n",
    "plt.figure(figsize=(8, 5))\n",
    "sns.countplot(data[\"Uncen\"])\n",
    "plt.title('Labelled data distribution')\n",
    "plt.show()"
   ]
  },
  {
   "cell_type": "code",
   "execution_count": 110,
   "id": "bd669f58-57b9-4a84-8b91-8955fa304370",
   "metadata": {
    "tags": []
   },
   "outputs": [
    {
     "data": {
      "text/html": [
       "<div>\n",
       "<style scoped>\n",
       "    .dataframe tbody tr th:only-of-type {\n",
       "        vertical-align: middle;\n",
       "    }\n",
       "\n",
       "    .dataframe tbody tr th {\n",
       "        vertical-align: top;\n",
       "    }\n",
       "\n",
       "    .dataframe thead th {\n",
       "        text-align: right;\n",
       "    }\n",
       "</style>\n",
       "<table border=\"1\" class=\"dataframe\">\n",
       "  <thead>\n",
       "    <tr style=\"text-align: right;\">\n",
       "      <th></th>\n",
       "      <th>Site_no</th>\n",
       "      <th>date</th>\n",
       "      <th>ParamLow</th>\n",
       "      <th>ParamHigh</th>\n",
       "      <th>Parameter</th>\n",
       "      <th>Uncen</th>\n",
       "    </tr>\n",
       "  </thead>\n",
       "  <tbody>\n",
       "    <tr>\n",
       "      <th>417</th>\n",
       "      <td>01122610</td>\n",
       "      <td>1999-08-09</td>\n",
       "      <td>1.23948</td>\n",
       "      <td>1.24356</td>\n",
       "      <td>Larson</td>\n",
       "      <td>0</td>\n",
       "    </tr>\n",
       "    <tr>\n",
       "      <th>13433</th>\n",
       "      <td>03155000_19415571</td>\n",
       "      <td>1999-08-03</td>\n",
       "      <td>0.52929</td>\n",
       "      <td>0.72846</td>\n",
       "      <td>Larson</td>\n",
       "      <td>0</td>\n",
       "    </tr>\n",
       "    <tr>\n",
       "      <th>19212</th>\n",
       "      <td>05474000</td>\n",
       "      <td>1998-06-18</td>\n",
       "      <td>0.13270</td>\n",
       "      <td>0.13351</td>\n",
       "      <td>Larson</td>\n",
       "      <td>0</td>\n",
       "    </tr>\n",
       "    <tr>\n",
       "      <th>21820</th>\n",
       "      <td>06340500_16249791</td>\n",
       "      <td>1969-10-14</td>\n",
       "      <td>0.79796</td>\n",
       "      <td>0.79830</td>\n",
       "      <td>Larson</td>\n",
       "      <td>0</td>\n",
       "    </tr>\n",
       "    <tr>\n",
       "      <th>21822</th>\n",
       "      <td>06340500_16249791</td>\n",
       "      <td>1969-11-12</td>\n",
       "      <td>0.88941</td>\n",
       "      <td>0.88975</td>\n",
       "      <td>Larson</td>\n",
       "      <td>0</td>\n",
       "    </tr>\n",
       "  </tbody>\n",
       "</table>\n",
       "</div>"
      ],
      "text/plain": [
       "                 Site_no       date  ParamLow  ParamHigh Parameter  Uncen\n",
       "417             01122610 1999-08-09   1.23948    1.24356    Larson      0\n",
       "13433  03155000_19415571 1999-08-03   0.52929    0.72846    Larson      0\n",
       "19212           05474000 1998-06-18   0.13270    0.13351    Larson      0\n",
       "21820  06340500_16249791 1969-10-14   0.79796    0.79830    Larson      0\n",
       "21822  06340500_16249791 1969-11-12   0.88941    0.88975    Larson      0"
      ]
     },
     "execution_count": 110,
     "metadata": {},
     "output_type": "execute_result"
    }
   ],
   "source": [
    "data[data['Uncen']==0].head()"
   ]
  },
  {
   "cell_type": "markdown",
   "id": "161f516f-60ed-4e2e-8398-1d90b59547e7",
   "metadata": {},
   "source": [
    "###### The target distribution is not balanced, Hence some techniques must be employed to handle this imbalances"
   ]
  },
  {
   "cell_type": "code",
   "execution_count": 111,
   "id": "ea78d043-2bee-46cb-8a72-c8eed1216c73",
   "metadata": {
    "jupyter": {
     "source_hidden": true
    },
    "tags": []
   },
   "outputs": [],
   "source": [
    "## It is clear that the minority class is un_corroded 0 so oversampling will be applyed to increase the observation of the un_corroded \n",
    "\n",
    "## implementation of resampling in the above dataset\n",
    "from sklearn.utils import resample\n",
    "\n",
    "## splitting the datasets into 2 dataframe based on the labels\n",
    "corroded = data[data['Uncen']==1]\n",
    "un_corroded = data[data['Uncen']==0]\n",
    "\n",
    "## creating a dataframe of un_corroded by random oversampling\n",
    "random_sampling = resample(un_corroded,random_state=0,replace=True,n_samples=len(corroded)) \n",
    "\n",
    "## combining the randomly sampled dataset with corroded dataset to form a new dataset\n",
    "data=pd.concat([corroded,random_sampling])"
   ]
  },
  {
   "cell_type": "code",
   "execution_count": 112,
   "id": "7ff87cf1-f45f-4361-98b7-fa2d060c0be4",
   "metadata": {},
   "outputs": [
    {
     "data": {
      "text/html": [
       "<div>\n",
       "<style scoped>\n",
       "    .dataframe tbody tr th:only-of-type {\n",
       "        vertical-align: middle;\n",
       "    }\n",
       "\n",
       "    .dataframe tbody tr th {\n",
       "        vertical-align: top;\n",
       "    }\n",
       "\n",
       "    .dataframe thead th {\n",
       "        text-align: right;\n",
       "    }\n",
       "</style>\n",
       "<table border=\"1\" class=\"dataframe\">\n",
       "  <thead>\n",
       "    <tr style=\"text-align: right;\">\n",
       "      <th></th>\n",
       "      <th>Site_no</th>\n",
       "      <th>date</th>\n",
       "      <th>ParamLow</th>\n",
       "      <th>ParamHigh</th>\n",
       "      <th>Parameter</th>\n",
       "      <th>Uncen</th>\n",
       "    </tr>\n",
       "  </thead>\n",
       "  <tbody>\n",
       "    <tr>\n",
       "      <th>0</th>\n",
       "      <td>01122610</td>\n",
       "      <td>1974-07-08</td>\n",
       "      <td>1.53540</td>\n",
       "      <td>1.53540</td>\n",
       "      <td>Larson</td>\n",
       "      <td>1</td>\n",
       "    </tr>\n",
       "    <tr>\n",
       "      <th>1</th>\n",
       "      <td>01122610</td>\n",
       "      <td>1974-07-08</td>\n",
       "      <td>0.80103</td>\n",
       "      <td>0.80103</td>\n",
       "      <td>CSMR</td>\n",
       "      <td>1</td>\n",
       "    </tr>\n",
       "    <tr>\n",
       "      <th>2</th>\n",
       "      <td>01122610</td>\n",
       "      <td>1974-08-05</td>\n",
       "      <td>2.02023</td>\n",
       "      <td>2.02023</td>\n",
       "      <td>Larson</td>\n",
       "      <td>1</td>\n",
       "    </tr>\n",
       "    <tr>\n",
       "      <th>3</th>\n",
       "      <td>01122610</td>\n",
       "      <td>1974-08-05</td>\n",
       "      <td>1.16817</td>\n",
       "      <td>1.16817</td>\n",
       "      <td>CSMR</td>\n",
       "      <td>1</td>\n",
       "    </tr>\n",
       "    <tr>\n",
       "      <th>4</th>\n",
       "      <td>01122610</td>\n",
       "      <td>1974-09-16</td>\n",
       "      <td>2.27004</td>\n",
       "      <td>2.27004</td>\n",
       "      <td>Larson</td>\n",
       "      <td>1</td>\n",
       "    </tr>\n",
       "  </tbody>\n",
       "</table>\n",
       "</div>"
      ],
      "text/plain": [
       "    Site_no       date  ParamLow  ParamHigh Parameter  Uncen\n",
       "0  01122610 1974-07-08   1.53540    1.53540    Larson      1\n",
       "1  01122610 1974-07-08   0.80103    0.80103      CSMR      1\n",
       "2  01122610 1974-08-05   2.02023    2.02023    Larson      1\n",
       "3  01122610 1974-08-05   1.16817    1.16817      CSMR      1\n",
       "4  01122610 1974-09-16   2.27004    2.27004    Larson      1"
      ]
     },
     "execution_count": 112,
     "metadata": {},
     "output_type": "execute_result"
    }
   ],
   "source": [
    "data.head()"
   ]
  },
  {
   "cell_type": "code",
   "execution_count": 113,
   "id": "596160a9-a3b3-40f6-b0d3-d81481bee8c6",
   "metadata": {},
   "outputs": [
    {
     "data": {
      "image/png": "[encoded data removed]",
      "text/plain": [
       "<Figure size 576x360 with 1 Axes>"
      ]
     },
     "metadata": {},
     "output_type": "display_data"
    }
   ],
   "source": [
    "# Now lets make sure we have a uniform class distribution\n",
    "# labelled data distribution\n",
    "sns.set_style('darkgrid')\n",
    "plt.figure(figsize=(8, 5))\n",
    "sns.countplot(data[\"Uncen\"])\n",
    "plt.title('Labelled data distribution')\n",
    "plt.show()"
   ]
  },
  {
   "cell_type": "code",
   "execution_count": 114,
   "id": "625894f8-bb6b-4986-9a8c-67c2c93ca5f7",
   "metadata": {},
   "outputs": [],
   "source": [
    "## Uniform target variable distribution"
   ]
  },
  {
   "cell_type": "markdown",
   "id": "b189d748-5863-4edd-8e30-d6e9d351b46a",
   "metadata": {},
   "source": [
    "## 4. Missing values and duplicates"
   ]
  },
  {
   "cell_type": "code",
   "execution_count": 115,
   "id": "7d86a465-b4d8-4908-a40b-cf486386341e",
   "metadata": {},
   "outputs": [
    {
     "data": {
      "text/plain": [
       "False"
      ]
     },
     "execution_count": 115,
     "metadata": {},
     "output_type": "execute_result"
    }
   ],
   "source": [
    "# Check or missing values \n",
    "data.isnull().sum().any()"
   ]
  },
  {
   "cell_type": "code",
   "execution_count": 116,
   "id": "9762ba87-36e9-482a-ae39-c2f91dc2fcb4",
   "metadata": {},
   "outputs": [],
   "source": [
    "# no missing variable recorded"
   ]
  },
  {
   "cell_type": "code",
   "execution_count": 117,
   "id": "375e11e0-1138-4420-ace7-838d455654cf",
   "metadata": {},
   "outputs": [
    {
     "data": {
      "text/html": [
       "<div>\n",
       "<style scoped>\n",
       "    .dataframe tbody tr th:only-of-type {\n",
       "        vertical-align: middle;\n",
       "    }\n",
       "\n",
       "    .dataframe tbody tr th {\n",
       "        vertical-align: top;\n",
       "    }\n",
       "\n",
       "    .dataframe thead th {\n",
       "        text-align: right;\n",
       "    }\n",
       "</style>\n",
       "<table border=\"1\" class=\"dataframe\">\n",
       "  <thead>\n",
       "    <tr style=\"text-align: right;\">\n",
       "      <th></th>\n",
       "      <th>Site_no</th>\n",
       "      <th>date</th>\n",
       "      <th>ParamLow</th>\n",
       "      <th>ParamHigh</th>\n",
       "      <th>Parameter</th>\n",
       "      <th>Uncen</th>\n",
       "    </tr>\n",
       "  </thead>\n",
       "  <tbody>\n",
       "    <tr>\n",
       "      <th>21820</th>\n",
       "      <td>06340500_16249791</td>\n",
       "      <td>1969-10-14</td>\n",
       "      <td>0.79796</td>\n",
       "      <td>0.79830</td>\n",
       "      <td>Larson</td>\n",
       "      <td>0</td>\n",
       "    </tr>\n",
       "    <tr>\n",
       "      <th>28496</th>\n",
       "      <td>07189000</td>\n",
       "      <td>2000-05-23</td>\n",
       "      <td>0.08373</td>\n",
       "      <td>0.08620</td>\n",
       "      <td>Larson</td>\n",
       "      <td>0</td>\n",
       "    </tr>\n",
       "    <tr>\n",
       "      <th>49462</th>\n",
       "      <td>09315000_4931276</td>\n",
       "      <td>2006-05-09</td>\n",
       "      <td>0.57950</td>\n",
       "      <td>0.71165</td>\n",
       "      <td>Larson</td>\n",
       "      <td>0</td>\n",
       "    </tr>\n",
       "    <tr>\n",
       "      <th>28342</th>\n",
       "      <td>07189000</td>\n",
       "      <td>1983-01-12</td>\n",
       "      <td>0.09587</td>\n",
       "      <td>0.17549</td>\n",
       "      <td>Larson</td>\n",
       "      <td>0</td>\n",
       "    </tr>\n",
       "    <tr>\n",
       "      <th>28496</th>\n",
       "      <td>07189000</td>\n",
       "      <td>2000-05-23</td>\n",
       "      <td>0.08373</td>\n",
       "      <td>0.08620</td>\n",
       "      <td>Larson</td>\n",
       "      <td>0</td>\n",
       "    </tr>\n",
       "  </tbody>\n",
       "</table>\n",
       "</div>"
      ],
      "text/plain": [
       "                 Site_no       date  ParamLow  ParamHigh Parameter  Uncen\n",
       "21820  06340500_16249791 1969-10-14   0.79796    0.79830    Larson      0\n",
       "28496           07189000 2000-05-23   0.08373    0.08620    Larson      0\n",
       "49462   09315000_4931276 2006-05-09   0.57950    0.71165    Larson      0\n",
       "28342           07189000 1983-01-12   0.09587    0.17549    Larson      0\n",
       "28496           07189000 2000-05-23   0.08373    0.08620    Larson      0"
      ]
     },
     "execution_count": 117,
     "metadata": {},
     "output_type": "execute_result"
    }
   ],
   "source": [
    "# Check for duplicate\n",
    "data[data.duplicated()].head(5)"
   ]
  },
  {
   "cell_type": "code",
   "execution_count": 118,
   "id": "3ab69f47-bbbb-490a-85e4-7c1508727a52",
   "metadata": {},
   "outputs": [],
   "source": [
    "# This is expected as resampling was done"
   ]
  },
  {
   "cell_type": "markdown",
   "id": "2cc6fe8c-9ea7-467a-bb41-8ea57da0e297",
   "metadata": {},
   "source": [
    "## 5. Outliers"
   ]
  },
  {
   "cell_type": "markdown",
   "id": "fe1ab245-3ece-4af8-9402-67b6a6d3f0f3",
   "metadata": {},
   "source": [
    "#### Lets take a look at a the distribution of each features"
   ]
  },
  {
   "cell_type": "code",
   "execution_count": 119,
   "id": "3f776bf3-8021-47f3-a9e6-1539b7d9535b",
   "metadata": {},
   "outputs": [
    {
     "name": "stdout",
     "output_type": "stream",
     "text": [
      "<class 'pandas.core.frame.DataFrame'>\n",
      "Int64Index: 120430 entries, 0 to 28342\n",
      "Data columns (total 6 columns):\n",
      " #   Column     Non-Null Count   Dtype         \n",
      "---  ------     --------------   -----         \n",
      " 0   Site_no    120430 non-null  object        \n",
      " 1   date       120430 non-null  datetime64[ns]\n",
      " 2   ParamLow   120430 non-null  float64       \n",
      " 3   ParamHigh  120430 non-null  float64       \n",
      " 4   Parameter  120430 non-null  object        \n",
      " 5   Uncen      120430 non-null  int64         \n",
      "dtypes: datetime64[ns](1), float64(2), int64(1), object(2)\n",
      "memory usage: 8.4+ MB\n"
     ]
    }
   ],
   "source": [
    "data.info()"
   ]
  },
  {
   "cell_type": "code",
   "execution_count": 120,
   "id": "96f13bdb-f272-4eed-9d35-5262d92a0035",
   "metadata": {},
   "outputs": [],
   "source": [
    "data1=data.copy()"
   ]
  },
  {
   "cell_type": "code",
   "execution_count": 121,
   "id": "c5c92835-e5a0-4107-8a2b-ea8ec7a7d514",
   "metadata": {},
   "outputs": [
    {
     "data": {
      "text/html": [
       "<div>\n",
       "<style scoped>\n",
       "    .dataframe tbody tr th:only-of-type {\n",
       "        vertical-align: middle;\n",
       "    }\n",
       "\n",
       "    .dataframe tbody tr th {\n",
       "        vertical-align: top;\n",
       "    }\n",
       "\n",
       "    .dataframe thead th {\n",
       "        text-align: right;\n",
       "    }\n",
       "</style>\n",
       "<table border=\"1\" class=\"dataframe\">\n",
       "  <thead>\n",
       "    <tr style=\"text-align: right;\">\n",
       "      <th></th>\n",
       "      <th>Site_no</th>\n",
       "      <th>date</th>\n",
       "      <th>ParamLow</th>\n",
       "      <th>ParamHigh</th>\n",
       "      <th>Parameter</th>\n",
       "      <th>Uncen</th>\n",
       "    </tr>\n",
       "  </thead>\n",
       "  <tbody>\n",
       "    <tr>\n",
       "      <th>0</th>\n",
       "      <td>01122610</td>\n",
       "      <td>1974-07-08</td>\n",
       "      <td>1.53540</td>\n",
       "      <td>1.53540</td>\n",
       "      <td>Larson</td>\n",
       "      <td>1</td>\n",
       "    </tr>\n",
       "    <tr>\n",
       "      <th>1</th>\n",
       "      <td>01122610</td>\n",
       "      <td>1974-07-08</td>\n",
       "      <td>0.80103</td>\n",
       "      <td>0.80103</td>\n",
       "      <td>CSMR</td>\n",
       "      <td>1</td>\n",
       "    </tr>\n",
       "    <tr>\n",
       "      <th>2</th>\n",
       "      <td>01122610</td>\n",
       "      <td>1974-08-05</td>\n",
       "      <td>2.02023</td>\n",
       "      <td>2.02023</td>\n",
       "      <td>Larson</td>\n",
       "      <td>1</td>\n",
       "    </tr>\n",
       "    <tr>\n",
       "      <th>3</th>\n",
       "      <td>01122610</td>\n",
       "      <td>1974-08-05</td>\n",
       "      <td>1.16817</td>\n",
       "      <td>1.16817</td>\n",
       "      <td>CSMR</td>\n",
       "      <td>1</td>\n",
       "    </tr>\n",
       "    <tr>\n",
       "      <th>4</th>\n",
       "      <td>01122610</td>\n",
       "      <td>1974-09-16</td>\n",
       "      <td>2.27004</td>\n",
       "      <td>2.27004</td>\n",
       "      <td>Larson</td>\n",
       "      <td>1</td>\n",
       "    </tr>\n",
       "  </tbody>\n",
       "</table>\n",
       "</div>"
      ],
      "text/plain": [
       "    Site_no       date  ParamLow  ParamHigh Parameter  Uncen\n",
       "0  01122610 1974-07-08   1.53540    1.53540    Larson      1\n",
       "1  01122610 1974-07-08   0.80103    0.80103      CSMR      1\n",
       "2  01122610 1974-08-05   2.02023    2.02023    Larson      1\n",
       "3  01122610 1974-08-05   1.16817    1.16817      CSMR      1\n",
       "4  01122610 1974-09-16   2.27004    2.27004    Larson      1"
      ]
     },
     "execution_count": 121,
     "metadata": {},
     "output_type": "execute_result"
    }
   ],
   "source": [
    "data1.head()"
   ]
  },
  {
   "cell_type": "code",
   "execution_count": 122,
   "id": "57d77a79-06ab-491a-8f3c-dc442d1507ab",
   "metadata": {},
   "outputs": [
    {
     "data": {
      "image/png": "[encoded data removed]",
      "text/plain": [
       "<Figure size 1080x720 with 2 Axes>"
      ]
     },
     "metadata": {},
     "output_type": "display_data"
    }
   ],
   "source": [
    "# Plotting boxplots for each of the numerical columns\n",
    "sns.set_style('darkgrid')\n",
    "fig, axes = plt.subplots(nrows = 1, ncols = 2, figsize = (15, 10))\n",
    "fig.suptitle('Box plots showing outliers', y= 0.93, fontsize = 15)\n",
    "\n",
    "for ax, data, name in zip(axes.flatten(), data, ['ParamLow','ParamHigh',]):\n",
    "  sns.boxplot(data1[name], ax = ax)"
   ]
  },
  {
   "cell_type": "markdown",
   "id": "2446364c-8437-4383-ade9-58cc5f5d52cc",
   "metadata": {},
   "source": [
    "#### Outliers are present for both numerical features, Hence Scaling will be done to handle this effect "
   ]
  },
  {
   "cell_type": "markdown",
   "id": "8ef8ef80-df42-4253-92cb-8d1dc325ef91",
   "metadata": {},
   "source": [
    "## 6. Feature Engineering"
   ]
  },
  {
   "cell_type": "code",
   "execution_count": 123,
   "id": "48d5121b-48cf-4b67-b47e-1be16c4b575e",
   "metadata": {},
   "outputs": [
    {
     "data": {
      "text/html": [
       "<div>\n",
       "<style scoped>\n",
       "    .dataframe tbody tr th:only-of-type {\n",
       "        vertical-align: middle;\n",
       "    }\n",
       "\n",
       "    .dataframe tbody tr th {\n",
       "        vertical-align: top;\n",
       "    }\n",
       "\n",
       "    .dataframe thead th {\n",
       "        text-align: right;\n",
       "    }\n",
       "</style>\n",
       "<table border=\"1\" class=\"dataframe\">\n",
       "  <thead>\n",
       "    <tr style=\"text-align: right;\">\n",
       "      <th></th>\n",
       "      <th>date</th>\n",
       "      <th>Datetime_day</th>\n",
       "      <th>Datetime_month</th>\n",
       "      <th>Datetime_year</th>\n",
       "    </tr>\n",
       "  </thead>\n",
       "  <tbody>\n",
       "    <tr>\n",
       "      <th>0</th>\n",
       "      <td>1974-07-08</td>\n",
       "      <td>8</td>\n",
       "      <td>7</td>\n",
       "      <td>1974</td>\n",
       "    </tr>\n",
       "    <tr>\n",
       "      <th>1</th>\n",
       "      <td>1974-07-08</td>\n",
       "      <td>8</td>\n",
       "      <td>7</td>\n",
       "      <td>1974</td>\n",
       "    </tr>\n",
       "    <tr>\n",
       "      <th>2</th>\n",
       "      <td>1974-08-05</td>\n",
       "      <td>5</td>\n",
       "      <td>8</td>\n",
       "      <td>1974</td>\n",
       "    </tr>\n",
       "    <tr>\n",
       "      <th>3</th>\n",
       "      <td>1974-08-05</td>\n",
       "      <td>5</td>\n",
       "      <td>8</td>\n",
       "      <td>1974</td>\n",
       "    </tr>\n",
       "    <tr>\n",
       "      <th>4</th>\n",
       "      <td>1974-09-16</td>\n",
       "      <td>16</td>\n",
       "      <td>9</td>\n",
       "      <td>1974</td>\n",
       "    </tr>\n",
       "    <tr>\n",
       "      <th>...</th>\n",
       "      <td>...</td>\n",
       "      <td>...</td>\n",
       "      <td>...</td>\n",
       "      <td>...</td>\n",
       "    </tr>\n",
       "    <tr>\n",
       "      <th>22977</th>\n",
       "      <td>2012-05-15</td>\n",
       "      <td>15</td>\n",
       "      <td>5</td>\n",
       "      <td>2012</td>\n",
       "    </tr>\n",
       "    <tr>\n",
       "      <th>49462</th>\n",
       "      <td>2006-05-09</td>\n",
       "      <td>9</td>\n",
       "      <td>5</td>\n",
       "      <td>2006</td>\n",
       "    </tr>\n",
       "    <tr>\n",
       "      <th>49488</th>\n",
       "      <td>2007-05-10</td>\n",
       "      <td>10</td>\n",
       "      <td>5</td>\n",
       "      <td>2007</td>\n",
       "    </tr>\n",
       "    <tr>\n",
       "      <th>22995</th>\n",
       "      <td>2013-05-22</td>\n",
       "      <td>22</td>\n",
       "      <td>5</td>\n",
       "      <td>2013</td>\n",
       "    </tr>\n",
       "    <tr>\n",
       "      <th>28342</th>\n",
       "      <td>1983-01-12</td>\n",
       "      <td>12</td>\n",
       "      <td>1</td>\n",
       "      <td>1983</td>\n",
       "    </tr>\n",
       "  </tbody>\n",
       "</table>\n",
       "<p>120430 rows × 4 columns</p>\n",
       "</div>"
      ],
      "text/plain": [
       "            date  Datetime_day  Datetime_month  Datetime_year\n",
       "0     1974-07-08             8               7           1974\n",
       "1     1974-07-08             8               7           1974\n",
       "2     1974-08-05             5               8           1974\n",
       "3     1974-08-05             5               8           1974\n",
       "4     1974-09-16            16               9           1974\n",
       "...          ...           ...             ...            ...\n",
       "22977 2012-05-15            15               5           2012\n",
       "49462 2006-05-09             9               5           2006\n",
       "49488 2007-05-10            10               5           2007\n",
       "22995 2013-05-22            22               5           2013\n",
       "28342 1983-01-12            12               1           1983\n",
       "\n",
       "[120430 rows x 4 columns]"
      ]
     },
     "execution_count": 123,
     "metadata": {},
     "output_type": "execute_result"
    }
   ],
   "source": [
    "# Extract day, month year and hour from the date column\n",
    "#day\n",
    "data1['Datetime_day'] = data1.date.dt.day\n",
    "\n",
    "#months\n",
    "data1['Datetime_month'] = data1.date.dt.month\n",
    "\n",
    "#year\n",
    "data1['Datetime_year'] = data1.date.dt.year\n",
    "\n",
    "# Preview the engineered features\n",
    "data1[['date','Datetime_day','Datetime_month','Datetime_year']]"
   ]
  },
  {
   "cell_type": "markdown",
   "id": "464e3ad5-99bb-487e-9c70-3a77d1498970",
   "metadata": {},
   "source": [
    "## 7. Date Features EDA"
   ]
  },
  {
   "cell_type": "code",
   "execution_count": 124,
   "id": "9cde19bb-2664-4fed-82c4-3e075ee505f9",
   "metadata": {},
   "outputs": [
    {
     "data": {
      "image/png": "[encoded data removed]",
      "text/plain": [
       "<Figure size 1008x504 with 1 Axes>"
      ]
     },
     "metadata": {},
     "output_type": "display_data"
    }
   ],
   "source": [
    "# Datetime month countplot\n",
    "plt.figure(figsize = (14, 7))\n",
    "sns.countplot(x = 'Datetime_month', data = data1)\n",
    "plt.title('Datetime month count plot')\n",
    "plt.show()"
   ]
  },
  {
   "cell_type": "markdown",
   "id": "48dca405-e200-4ac7-85d1-f97afa7eeef9",
   "metadata": {},
   "source": [
    "#### All months were recoreded and considered in the experiment\n",
    "#### May has the highest record of observation while January has the lowest"
   ]
  },
  {
   "cell_type": "code",
   "execution_count": 125,
   "id": "fd189266-2110-418e-8652-ddb096bc197e",
   "metadata": {},
   "outputs": [
    {
     "data": {
      "image/png": "[encoded data removed]",
      "text/plain": [
       "<Figure size 1008x504 with 1 Axes>"
      ]
     },
     "metadata": {},
     "output_type": "display_data"
    }
   ],
   "source": [
    "# Datetime day countplot\n",
    "plt.figure(figsize = (14, 7))\n",
    "sns.countplot(x = 'Datetime_day', data = data1)\n",
    "plt.title('Datetime month count plot')\n",
    "plt.show()"
   ]
  },
  {
   "cell_type": "markdown",
   "id": "1b96b9b8-0846-41b4-8c94-e0ab82f96662",
   "metadata": {},
   "source": [
    "#### probably there is no need for this visualization as no insight could be obtained"
   ]
  },
  {
   "cell_type": "code",
   "execution_count": 127,
   "id": "5c8b3593-c653-4d68-b17e-40a46eac2c9d",
   "metadata": {},
   "outputs": [
    {
     "data": {
      "text/html": [
       "<div>\n",
       "<style scoped>\n",
       "    .dataframe tbody tr th:only-of-type {\n",
       "        vertical-align: middle;\n",
       "    }\n",
       "\n",
       "    .dataframe tbody tr th {\n",
       "        vertical-align: top;\n",
       "    }\n",
       "\n",
       "    .dataframe thead th {\n",
       "        text-align: right;\n",
       "    }\n",
       "</style>\n",
       "<table border=\"1\" class=\"dataframe\">\n",
       "  <thead>\n",
       "    <tr style=\"text-align: right;\">\n",
       "      <th></th>\n",
       "      <th>Site_no</th>\n",
       "      <th>date</th>\n",
       "      <th>ParamLow</th>\n",
       "      <th>ParamHigh</th>\n",
       "      <th>Parameter</th>\n",
       "      <th>Uncen</th>\n",
       "      <th>Datetime_day</th>\n",
       "      <th>Datetime_month</th>\n",
       "      <th>Datetime_year</th>\n",
       "    </tr>\n",
       "  </thead>\n",
       "  <tbody>\n",
       "    <tr>\n",
       "      <th>0</th>\n",
       "      <td>01122610</td>\n",
       "      <td>1974-07-08</td>\n",
       "      <td>1.53540</td>\n",
       "      <td>1.53540</td>\n",
       "      <td>Larson</td>\n",
       "      <td>1</td>\n",
       "      <td>8</td>\n",
       "      <td>7</td>\n",
       "      <td>1974</td>\n",
       "    </tr>\n",
       "    <tr>\n",
       "      <th>1</th>\n",
       "      <td>01122610</td>\n",
       "      <td>1974-07-08</td>\n",
       "      <td>0.80103</td>\n",
       "      <td>0.80103</td>\n",
       "      <td>CSMR</td>\n",
       "      <td>1</td>\n",
       "      <td>8</td>\n",
       "      <td>7</td>\n",
       "      <td>1974</td>\n",
       "    </tr>\n",
       "    <tr>\n",
       "      <th>2</th>\n",
       "      <td>01122610</td>\n",
       "      <td>1974-08-05</td>\n",
       "      <td>2.02023</td>\n",
       "      <td>2.02023</td>\n",
       "      <td>Larson</td>\n",
       "      <td>1</td>\n",
       "      <td>5</td>\n",
       "      <td>8</td>\n",
       "      <td>1974</td>\n",
       "    </tr>\n",
       "    <tr>\n",
       "      <th>3</th>\n",
       "      <td>01122610</td>\n",
       "      <td>1974-08-05</td>\n",
       "      <td>1.16817</td>\n",
       "      <td>1.16817</td>\n",
       "      <td>CSMR</td>\n",
       "      <td>1</td>\n",
       "      <td>5</td>\n",
       "      <td>8</td>\n",
       "      <td>1974</td>\n",
       "    </tr>\n",
       "    <tr>\n",
       "      <th>4</th>\n",
       "      <td>01122610</td>\n",
       "      <td>1974-09-16</td>\n",
       "      <td>2.27004</td>\n",
       "      <td>2.27004</td>\n",
       "      <td>Larson</td>\n",
       "      <td>1</td>\n",
       "      <td>16</td>\n",
       "      <td>9</td>\n",
       "      <td>1974</td>\n",
       "    </tr>\n",
       "  </tbody>\n",
       "</table>\n",
       "</div>"
      ],
      "text/plain": [
       "    Site_no       date  ParamLow  ParamHigh Parameter  Uncen  Datetime_day  \\\n",
       "0  01122610 1974-07-08   1.53540    1.53540    Larson      1             8   \n",
       "1  01122610 1974-07-08   0.80103    0.80103      CSMR      1             8   \n",
       "2  01122610 1974-08-05   2.02023    2.02023    Larson      1             5   \n",
       "3  01122610 1974-08-05   1.16817    1.16817      CSMR      1             5   \n",
       "4  01122610 1974-09-16   2.27004    2.27004    Larson      1            16   \n",
       "\n",
       "   Datetime_month  Datetime_year  \n",
       "0               7           1974  \n",
       "1               7           1974  \n",
       "2               8           1974  \n",
       "3               8           1974  \n",
       "4               9           1974  "
      ]
     },
     "execution_count": 127,
     "metadata": {},
     "output_type": "execute_result"
    }
   ],
   "source": [
    "data1.head()"
   ]
  },
  {
   "cell_type": "markdown",
   "id": "01f2193e-8834-4fb9-b47c-772bf0749b71",
   "metadata": {},
   "source": [
    "## 8.Splitting of datasets"
   ]
  },
  {
   "cell_type": "code",
   "execution_count": 128,
   "id": "e70bddac-e0c1-42e2-9ac4-d299864e17c1",
   "metadata": {},
   "outputs": [
    {
     "data": {
      "text/plain": [
       "(120430, 9)"
      ]
     },
     "execution_count": 128,
     "metadata": {},
     "output_type": "execute_result"
    }
   ],
   "source": [
    "data1.shape"
   ]
  },
  {
   "cell_type": "code",
   "execution_count": 129,
   "id": "4767e0ac-a33a-428c-b57c-5572ffa2f9b6",
   "metadata": {},
   "outputs": [],
   "source": [
    "## The infinty values has to be taken care of to allow ease of pipeline implementation\n",
    "data2 = data1.replace([np.inf,-np.inf],np.nan)\n",
    "data2.dropna(inplace=True)"
   ]
  },
  {
   "cell_type": "code",
   "execution_count": 130,
   "id": "d92ef30f-338f-4053-bbb9-017f513a6cc5",
   "metadata": {},
   "outputs": [
    {
     "data": {
      "text/plain": [
       "(120399, 9)"
      ]
     },
     "execution_count": 130,
     "metadata": {},
     "output_type": "execute_result"
    }
   ],
   "source": [
    "data2.shape"
   ]
  },
  {
   "cell_type": "code",
   "execution_count": 131,
   "id": "528eab86-0dac-40c9-9a69-8c16f2137615",
   "metadata": {},
   "outputs": [],
   "source": [
    "## Only 60000 were entered correctly\n",
    "## Hence it is splitted into train and test \n",
    "train = data2.loc[:48001,:]\n",
    "test = data2.loc[48002:,]"
   ]
  },
  {
   "cell_type": "code",
   "execution_count": 132,
   "id": "28c77bd2-021b-4aab-8c6c-460acdf648a5",
   "metadata": {},
   "outputs": [
    {
     "name": "stdout",
     "output_type": "stream",
     "text": [
      "(47961, 9) (72438, 9)\n"
     ]
    }
   ],
   "source": [
    "print( train.shape,test.shape)"
   ]
  },
  {
   "cell_type": "code",
   "execution_count": 133,
   "id": "e8a0abd7-f390-4657-bf29-074db07bbcea",
   "metadata": {},
   "outputs": [],
   "source": [
    "## The training set and validation set has been obtained"
   ]
  },
  {
   "cell_type": "markdown",
   "id": "9d692274-b6b5-476b-b7a8-696a0525e612",
   "metadata": {},
   "source": [
    "## 9. Machine Learning Pipeline"
   ]
  },
  {
   "cell_type": "code",
   "execution_count": 134,
   "id": "c32bc375-1f62-42b3-a76f-faabdf556495",
   "metadata": {},
   "outputs": [],
   "source": [
    "## This Pipeline will contain the preprocessing steps which includes:\n",
    "## Scaling of numerical features\n",
    "## Encoding of categorical features"
   ]
  },
  {
   "cell_type": "code",
   "execution_count": 135,
   "id": "86d0babc-d9c5-4acd-825e-c02db9eaf806",
   "metadata": {},
   "outputs": [],
   "source": [
    "## import relevant modules,packages and libraries\n",
    "from sklearn.linear_model import LogisticRegression\n",
    "from sklearn.tree import DecisionTreeClassifier \n",
    "from sklearn.ensemble import RandomForestClassifier \n",
    "from sklearn.model_selection import train_test_split\n",
    "\n",
    "## import pipeline tools\n",
    "from sklearn.pipeline import Pipeline\n",
    "from sklearn.compose import ColumnTransformer\n",
    "from sklearn.impute import SimpleImputer\n",
    "from sklearn.preprocessing import OneHotEncoder\n",
    "from sklearn.preprocessing import StandardScaler"
   ]
  },
  {
   "cell_type": "code",
   "execution_count": 136,
   "id": "b676af77-247f-4f34-8b9e-a581a884acab",
   "metadata": {},
   "outputs": [],
   "source": [
    "## Define Features and Labels\n",
    "features = ['ParamLow', 'ParamHigh', 'Parameter', 'Datetime_day' ,'Datetime_month',\t'Datetime_year']\n",
    "labels = ['Uncen']\n",
    "\n",
    "\n",
    "## Declare variables\n",
    "X = data2[features]\n",
    "y = data2[labels]\n",
    "\n",
    "X_train, X_test, y_train, y_test = train_test_split(X, y, test_size = 0.3,random_state=0)\n"
   ]
  },
  {
   "cell_type": "code",
   "execution_count": 149,
   "id": "7f93113a-e30a-4bef-a030-635a4205a859",
   "metadata": {},
   "outputs": [
    {
     "name": "stdout",
     "output_type": "stream",
     "text": [
      "Pipeline(steps=[('preprocessor',\n",
      "                 ColumnTransformer(transformers=[('num',\n",
      "                                                  Pipeline(steps=[('scaler',\n",
      "                                                                   StandardScaler())]),\n",
      "                                                  ['ParamHigh', 'ParamLow',\n",
      "                                                   'Datetime_day',\n",
      "                                                   'Datetime_month',\n",
      "                                                   'Datetime_year']),\n",
      "                                                 ('cat',\n",
      "                                                  Pipeline(steps=[('onehot',\n",
      "                                                                   OneHotEncoder(handle_unknown='ignore'))]),\n",
      "                                                  ['Parameter'])])),\n",
      "                ('classifier', DecisionTreeClassifier())])\n"
     ]
    }
   ],
   "source": [
    "## define preprocessing for numeric features(scale them)\n",
    "numeric_features = ['ParamHigh','ParamLow','Datetime_day','Datetime_month','Datetime_year']\n",
    "numeric_transformer = Pipeline(steps=[\n",
    "    ('scaler', StandardScaler())])\n",
    "\n",
    "\n",
    "## define preprocessing for categorical features(encode them)\n",
    "categorical_features = ['Parameter',]\n",
    "categorical_transformer = Pipeline(steps=[\n",
    "    ('onehot', OneHotEncoder(handle_unknown='ignore'))])\n",
    "\n",
    "\n",
    "## amalgamate preprocessing steps\n",
    "preprocessor = ColumnTransformer(\n",
    "    transformers=[\n",
    "        ('num', numeric_transformer, numeric_features),\n",
    "        ('cat', categorical_transformer, categorical_features)])\n",
    "\n",
    "\n",
    "## create preprocessing and training pipeline\n",
    "pipeline = Pipeline(steps=[('preprocessor', preprocessor),\n",
    "                           ('classifier', DecisionTreeClassifier())])\n",
    "\n",
    "## fit the pipeline to train a linear regression model on the training set\n",
    "PIPEmodel = pipeline.fit(X_train,y_train)\n",
    "print (PIPEmodel)"
   ]
  },
  {
   "cell_type": "markdown",
   "id": "5a2e0566-552e-4be9-b158-8ef8c096c484",
   "metadata": {},
   "source": [
    "## 10.Evaluation metrics"
   ]
  },
  {
   "cell_type": "code",
   "execution_count": 150,
   "id": "c274fc2c-ebed-4da2-9dde-1cf97b6a6fad",
   "metadata": {},
   "outputs": [],
   "source": [
    "from sklearn.metrics import confusion_matrix\n",
    "from sklearn.metrics import classification_report\n",
    "from sklearn.metrics import accuracy_score\n",
    "from sklearn.metrics import roc_auc_score\n",
    "from sklearn.metrics import ConfusionMatrixDisplay\n",
    "pd.options.display.float_format = '{:.5f}'.format"
   ]
  },
  {
   "cell_type": "code",
   "execution_count": 151,
   "id": "c24ebe38-72ed-4d6e-97fa-7bd539fc6fd0",
   "metadata": {},
   "outputs": [
    {
     "name": "stdout",
     "output_type": "stream",
     "text": [
      "              precision    recall  f1-score   support\n",
      "\n",
      "           0       1.00      1.00      1.00     18118\n",
      "           1       1.00      1.00      1.00     18002\n",
      "\n",
      "    accuracy                           1.00     36120\n",
      "   macro avg       1.00      1.00      1.00     36120\n",
      "weighted avg       1.00      1.00      1.00     36120\n",
      "\n",
      "0.9996677740863787\n"
     ]
    }
   ],
   "source": [
    "## Prediction on test set\n",
    "PIPEpredictions = PIPEmodel.predict(X_test)\n",
    "\n",
    "## Metrics \n",
    "print(classification_report(y_test,PIPEpredictions))\n",
    "\n",
    "print(accuracy_score(y_test,PIPEpredictions))"
   ]
  },
  {
   "cell_type": "markdown",
   "id": "0f32cb74-d4f8-4d21-8d1d-6f72f4c34dd8",
   "metadata": {},
   "source": [
    "###### The predict_proba function cannot be used in this case as the y_test is a binary value and not a multi countinous target"
   ]
  },
  {
   "cell_type": "code",
   "execution_count": 152,
   "id": "21ce7cd9-6bfa-4d64-9309-62e9eee46edb",
   "metadata": {},
   "outputs": [
    {
     "name": "stdout",
     "output_type": "stream",
     "text": [
      "0.999666703699589\n"
     ]
    }
   ],
   "source": [
    "print(roc_auc_score(y_test,PIPEpredictions))"
   ]
  },
  {
   "cell_type": "code",
   "execution_count": 153,
   "id": "bdf9ce30-7615-48aa-bf82-d4329bc87812",
   "metadata": {},
   "outputs": [
    {
     "data": {
      "image/png": "[encoded data removed]",
      "text/plain": [
       "<Figure size 1080x504 with 2 Axes>"
      ]
     },
     "metadata": {},
     "output_type": "display_data"
    }
   ],
   "source": [
    "# Confusion matrix\n",
    "cm = confusion_matrix(y_test, PIPEpredictions, labels=PIPEmodel.classes_)\n",
    "disp = ConfusionMatrixDisplay(confusion_matrix=cm, display_labels=PIPEmodel.classes_)\n",
    "fig, ax = plt.subplots(figsize=(15,7))\n",
    "disp.plot(ax=ax)\n",
    "plt.show()"
   ]
  },
  {
   "cell_type": "markdown",
   "id": "fea73574-aa37-487e-9fd0-5e2527be5ad6",
   "metadata": {},
   "source": [
    "#### The model predicts quite well on the test set, However Perfomance can still be improved "
   ]
  },
  {
   "cell_type": "markdown",
   "id": "425738ad-ddeb-4de5-a016-73e3ad61cdd7",
   "metadata": {},
   "source": [
    "#### Considering the metrics roc_auc_score\n",
    "#### RandomForestClassifier proved to be the best model"
   ]
  },
  {
   "cell_type": "markdown",
   "id": "c0bb8dd8-6e0c-4d8a-9346-99c87b6dce83",
   "metadata": {},
   "source": [
    "###### LogisticRegression        0.8283801799800022\n",
    "###### RandomForestClassifier    0.9999722253082991\n",
    "###### DecisionTreeClassifier    0.9996667036995890"
   ]
  },
  {
   "cell_type": "code",
   "execution_count": 156,
   "id": "c694a1f7-aad3-4b99-ba0d-4da6d42dbccd",
   "metadata": {},
   "outputs": [
    {
     "data": {
      "text/plain": [
       "['./MODELS.pkl']"
      ]
     },
     "execution_count": 156,
     "metadata": {},
     "output_type": "execute_result"
    }
   ],
   "source": [
    "## Saving the best model as a pickle file\n",
    "\n",
    "filename = './MODELS.pkl'\n",
    "joblib.dump(PIPEmodel, filename)\n",
    "\n",
    "\n"
   ]
  }
 ],
 "metadata": {
  "kernelspec": {
   "display_name": "Python 3",
   "language": "python",
   "name": "python3"
  },
  "language_info": {
   "codemirror_mode": {
    "name": "ipython",
    "version": 3
   },
   "file_extension": ".py",
   "mimetype": "text/x-python",
   "name": "python",
   "nbconvert_exporter": "python",
   "pygments_lexer": "ipython3",
   "version": "3.8.8"
  }
 },
 "nbformat": 4,
 "nbformat_minor": 5
}
